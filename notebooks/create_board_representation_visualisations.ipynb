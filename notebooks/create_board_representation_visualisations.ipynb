{
 "cells": [
  {
   "cell_type": "markdown",
   "id": "graphic-armenia",
   "metadata": {},
   "source": [
    "# Board Representation Visualisations for the Report\n",
    "\n",
    "This notebook creates the visualisations of the axial coordinate representation of the board and how the board is stored represented in using an array/tensor."
   ]
  },
  {
   "cell_type": "markdown",
   "id": "least-diabetes",
   "metadata": {},
   "source": [
    "## Install Dependencies\n",
    "\n",
    "The following dependencies are required to run this notebook."
   ]
  },
  {
   "cell_type": "code",
   "execution_count": 1,
   "id": "homeless-elephant",
   "metadata": {},
   "outputs": [],
   "source": [
    "%%bash\n",
    "\n",
    "# pip install numpy\n",
    "# pip install matplotlib"
   ]
  },
  {
   "cell_type": "markdown",
   "id": "perfect-suite",
   "metadata": {},
   "source": [
    "## Imports"
   ]
  },
  {
   "cell_type": "code",
   "execution_count": 2,
   "id": "noble-river",
   "metadata": {},
   "outputs": [],
   "source": [
    "import sys\n",
    "sys.path.append('../blooms')\n",
    "\n",
    "import numpy as np\n",
    "import matplotlib.pyplot as plt\n",
    "from matplotlib.patches import Patch, Rectangle, RegularPolygon\n",
    "from matplotlib import ticker\n",
    "\n",
    "from BloomsLogic import Board"
   ]
  },
  {
   "cell_type": "markdown",
   "id": "centered-running",
   "metadata": {},
   "source": [
    "## Add Function to Visualise the Axial Coordinate System"
   ]
  },
  {
   "cell_type": "code",
   "execution_count": 3,
   "id": "grand-parallel",
   "metadata": {},
   "outputs": [],
   "source": [
    "def visualise_coord_system(self, show_coords=False, title=\"\"):\n",
    "    \"\"\"Visualise the axial coordinate system used for the board using matplotlib.\n",
    "\n",
    "    :param show_coords: whether or not to annotate each space with its axial\n",
    "        coordinates.\n",
    "        :param show_coords: whether or not to annotate each space with its axial\n",
    "        coordinates.\n",
    "    \"\"\"\n",
    "\n",
    "    fig, ax = plt.subplots(1, figsize=(5, 5))\n",
    "    ax.set_aspect('equal')\n",
    "\n",
    "    for q in range(0, self.board_2d.shape[-1]):\n",
    "        for r in range(0, self.board_2d.shape[-1]):\n",
    "            if self.is_valid_space((q, r)):\n",
    "                x, y = self.axial_to_pixel(q, r)\n",
    "                colour = self.board_2d[r, q]\n",
    "                face_colour = f'C{int(colour)}' if colour else 'w'\n",
    "                hexagon = RegularPolygon((x, y),\n",
    "                                         numVertices=6,\n",
    "                                         radius=1.75 * np.sqrt(1 / 3),\n",
    "                                         alpha=0.2,\n",
    "                                         edgecolor='k',\n",
    "                                         facecolor=face_colour)\n",
    "                ax.add_patch(hexagon)\n",
    "\n",
    "                if show_coords:\n",
    "                    ax.annotate(text=f'{q}',\n",
    "                                xy=(x - 0.3, y + 0.3),\n",
    "                                color='C0',\n",
    "                                ha='center',\n",
    "                                va='center')\n",
    "                    \n",
    "                    ax.annotate(text=f'{r}',\n",
    "                                color='C1',\n",
    "                                xy=(x + 0.3, y - 0.3),\n",
    "                                ha='center',\n",
    "                                va='center')\n",
    "\n",
    "    legend_elements = [Patch(facecolor='C0', edgecolor='w', alpha=0.2, label='q'),\n",
    "                       Patch(facecolor='C1', edgecolor='w', alpha=0.2, label='r')]\n",
    "\n",
    "    plt.title(title)\n",
    "    \n",
    "    plt.xticks([])\n",
    "    plt.yticks([])\n",
    "\n",
    "    ax.spines[\"top\"].set_visible(False)\n",
    "    ax.spines[\"right\"].set_visible(False)\n",
    "    ax.spines[\"left\"].set_visible(False)\n",
    "    ax.spines[\"bottom\"].set_visible(False)\n",
    "    \n",
    "    ax.legend(handles=legend_elements, ncol=1, loc='lower right')\n",
    "    plt.gca().invert_yaxis()\n",
    "    plt.autoscale(enable=True)\n",
    "    plt.savefig('outputs/board_coord_system_visualisation.pdf')\n",
    "    plt.show()\n",
    "    \n",
    "Board.visualise_coord_system = visualise_coord_system"
   ]
  },
  {
   "cell_type": "code",
   "execution_count": 4,
   "id": "generous-ordinary",
   "metadata": {},
   "outputs": [
    {
     "data": {
      "image/png": "[encoded data removed]",
      "text/plain": [
       "<Figure size 360x360 with 1 Axes>"
      ]
     },
     "metadata": {},
     "output_type": "display_data"
    }
   ],
   "source": [
    "board = Board()\n",
    "board.visualise_coord_system(show_coords=True)"
   ]
  },
  {
   "cell_type": "markdown",
   "id": "retired-lotus",
   "metadata": {},
   "source": [
    "## Add Function to Visualise how the Board is Stored in an Array"
   ]
  },
  {
   "cell_type": "code",
   "execution_count": 5,
   "id": "streaming-grocery",
   "metadata": {},
   "outputs": [],
   "source": [
    "def visualise_array(self, show_coords=False, title=\"\"):\n",
    "    \"\"\"Visualise how the board is stored in an array/tensor using matplotlib.\n",
    "\n",
    "    :param show_coords: whether or not to annotate each space with its axial\n",
    "        coordinates.\n",
    "        :param show_coords: whether or not to annotate each space with its axial\n",
    "        coordinates.\n",
    "    \"\"\"\n",
    "\n",
    "    fig, ax = plt.subplots(1,  figsize=(5, 5))\n",
    "    ax.set_aspect('equal')\n",
    "\n",
    "    for x in range(0, self.board_2d.shape[-1]):\n",
    "        for y in range(0, self.board_2d.shape[-1]):\n",
    "            face_colour = 'w' if self.is_valid_space((x, y)) else 'C5'\n",
    "            rectangle = Rectangle((x - 0.5, y - 0.5),\n",
    "                                  width=1,\n",
    "                                  height=1,\n",
    "                                  alpha=0.2,\n",
    "                                  edgecolor='k',\n",
    "                                  facecolor=face_colour)\n",
    "            ax.add_patch(rectangle)\n",
    "        \n",
    "            if self.is_valid_space((x, y)):\n",
    "                ax.annotate(text=f'({x}, {y})',\n",
    "                            xy=(x, y),\n",
    "                            ha='center',\n",
    "                            va='center')\n",
    "\n",
    "    plt.title(title)\n",
    "    \n",
    "    plt.xticks(range(0, self.board_2d.shape[-1]))\n",
    "    ax.xaxis.set_label_position('top') \n",
    "    ax.xaxis.set_ticks_position('none') \n",
    "    ax.xaxis.set_major_formatter(ticker.FormatStrFormatter('q = %d'))\n",
    "    \n",
    "    plt.yticks(range(0, self.board_2d.shape[-1]))\n",
    "    ax.yaxis.set_ticks_position('none')\n",
    "    ax.yaxis.set_major_formatter(ticker.FormatStrFormatter('r = %d'))\n",
    "    \n",
    "    ax.spines[\"top\"].set_visible(False)\n",
    "    ax.spines[\"right\"].set_visible(False)\n",
    "    ax.spines[\"left\"].set_visible(False)\n",
    "    ax.spines[\"bottom\"].set_visible(False)\n",
    "\n",
    "    plt.gca().invert_yaxis()\n",
    "    plt.autoscale(enable=True)\n",
    "    plt.savefig('outputs/board_array_visualisation.pdf')\n",
    "    plt.show()\n",
    "    \n",
    "Board.visualise_array = visualise_array"
   ]
  },
  {
   "cell_type": "code",
   "execution_count": 6,
   "id": "surrounded-large",
   "metadata": {},
   "outputs": [
    {
     "data": {
      "image/png": "[encoded data removed]",
      "text/plain": [
       "<Figure size 360x360 with 1 Axes>"
      ]
     },
     "metadata": {
      "needs_background": "light"
     },
     "output_type": "display_data"
    }
   ],
   "source": [
    "board = Board()\n",
    "board.visualise_array()"
   ]
  },
  {
   "cell_type": "code",
   "execution_count": null,
   "id": "antique-conversation",
   "metadata": {},
   "outputs": [],
   "source": []
  }
 ],
 "metadata": {
  "kernelspec": {
   "display_name": "Python [conda env:pytorch-1.7.1]",
   "language": "python",
   "name": "conda-env-pytorch-1.7.1-py"
  },
  "language_info": {
   "codemirror_mode": {
    "name": "ipython",
    "version": 3
   },
   "file_extension": ".py",
   "mimetype": "text/x-python",
   "name": "python",
   "nbconvert_exporter": "python",
   "pygments_lexer": "ipython3",
   "version": "3.8.5"
  }
 },
 "nbformat": 4,
 "nbformat_minor": 5
}
