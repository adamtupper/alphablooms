{
 "cells": [
  {
   "cell_type": "markdown",
   "id": "advance-mobile",
   "metadata": {},
   "source": [
    "# Test Training Run Checkpoints Against a Random Agent to see if Training Succeeded\n",
    "\n",
    "This notebook performs a basic check to compare each checkpoint of a training run against a random agent. If the training run is successful, we should observe improved performance over time."
   ]
  },
  {
   "cell_type": "code",
   "execution_count": 1,
   "id": "plain-group",
   "metadata": {},
   "outputs": [],
   "source": [
    "CHKPT_DIR = 'results/chkpts_board4_24hrs/'  # The path to the checkpoints directory\n",
    "NUM_CHKPTS = 13                             # The number of checkpoints in the checkpoints directory\n",
    "NUM_MCTS_SIMS = 100                         # This should match the number of MCTS simulations used during training\n",
    "BOARD_SIZE = 4                              # This should match the board size used during training\n",
    "SCORE_TARGET = 15                           # This should match the score target used during training\n",
    "N_GAMES = 30                                # The number of games to play for each evaluation\n",
    "CPUS = 4.0                                  # Number of CPU cores to use"
   ]
  },
  {
   "cell_type": "markdown",
   "id": "acceptable-brisbane",
   "metadata": {},
   "source": [
    "## Imports"
   ]
  },
  {
   "cell_type": "code",
   "execution_count": 2,
   "id": "quality-headset",
   "metadata": {},
   "outputs": [],
   "source": [
    "import pickle\n",
    "import sys\n",
    "sys.path.append('..')\n",
    "\n",
    "import numpy as np\n",
    "import matplotlib.pyplot as plt\n",
    "\n",
    "import Arena\n",
    "from MCTS import MCTS\n",
    "from utils import *\n",
    "\n",
    "from blooms.BloomsGame import BloomsGame\n",
    "from blooms.BloomsPlayers import RandomPlayer, GreedyPlayer\n",
    "from blooms.pytorch.NNet import NNetWrapper as BloomsPyTorchNNet"
   ]
  },
  {
   "cell_type": "markdown",
   "id": "anticipated-correction",
   "metadata": {},
   "source": [
    "## Evaluation Function"
   ]
  },
  {
   "cell_type": "code",
   "execution_count": 3,
   "id": "trying-rolling",
   "metadata": {},
   "outputs": [],
   "source": [
    "def evaluate_agent(n_games, game, opponent, chkpt_dir, chkpt_filename):\n",
    "    \"\"\"Compare the performance of an agent against an Opponent.\n",
    "    \"\"\"\n",
    "    model = BloomsPyTorchNNet(game)\n",
    "    model.load_checkpoint(chkpt_dir, chkpt_filename)\n",
    "    args = dotdict({'numMCTSSims': NUM_MCTS_SIMS, 'cpuct': CPUS})\n",
    "    mcts = MCTS(game, model, args)\n",
    "    agent = lambda x: np.argmax(mcts.getActionProb(x, temp=0))\n",
    "\n",
    "    arena = Arena.Arena(agent, opponent, game)\n",
    "    wins, losses, draws = arena.playGames(n_games, verbose=False)\n",
    "    \n",
    "    return wins, losses, draws"
   ]
  },
  {
   "cell_type": "markdown",
   "id": "informative-carroll",
   "metadata": {},
   "source": [
    "## Evaluate Against a Random Agent"
   ]
  },
  {
   "cell_type": "code",
   "execution_count": 4,
   "id": "pacific-watson",
   "metadata": {},
   "outputs": [
    {
     "name": "stderr",
     "output_type": "stream",
     "text": [
      "Arena.playGames (1): 100%|██████████| 15/15 [07:07<00:00, 28.48s/it]\n",
      "Arena.playGames (2): 100%|██████████| 15/15 [56:41<00:00, 226.78s/it] \n",
      "Arena.playGames (1): 100%|██████████| 15/15 [07:01<00:00, 28.08s/it]\n",
      "Arena.playGames (2): 100%|██████████| 15/15 [07:15<00:00, 29.01s/it]\n",
      "Arena.playGames (1): 100%|██████████| 15/15 [07:08<00:00, 28.56s/it]\n",
      "Arena.playGames (2): 100%|██████████| 15/15 [06:34<00:00, 26.28s/it]\n",
      "Arena.playGames (1): 100%|██████████| 15/15 [06:53<00:00, 27.58s/it]\n",
      "Arena.playGames (2): 100%|██████████| 15/15 [06:51<00:00, 27.45s/it]\n",
      "Arena.playGames (1): 100%|██████████| 15/15 [06:56<00:00, 27.75s/it]\n",
      "Arena.playGames (2): 100%|██████████| 15/15 [06:42<00:00, 26.80s/it]\n",
      "Arena.playGames (1): 100%|██████████| 15/15 [07:04<00:00, 28.31s/it]\n",
      "Arena.playGames (2): 100%|██████████| 15/15 [06:50<00:00, 27.37s/it]\n",
      "Arena.playGames (1): 100%|██████████| 15/15 [06:50<00:00, 27.34s/it]\n",
      "Arena.playGames (2): 100%|██████████| 15/15 [06:49<00:00, 27.33s/it]\n",
      "Arena.playGames (1): 100%|██████████| 15/15 [06:40<00:00, 26.72s/it]\n",
      "Arena.playGames (2): 100%|██████████| 15/15 [06:40<00:00, 26.72s/it]\n",
      "Arena.playGames (1): 100%|██████████| 15/15 [06:38<00:00, 26.59s/it]\n",
      "Arena.playGames (2): 100%|██████████| 15/15 [06:47<00:00, 27.15s/it]\n",
      "Arena.playGames (1): 100%|██████████| 15/15 [07:03<00:00, 28.24s/it]\n",
      "Arena.playGames (2): 100%|██████████| 15/15 [06:29<00:00, 25.97s/it]\n",
      "Arena.playGames (1): 100%|██████████| 15/15 [06:44<00:00, 27.00s/it]\n",
      "Arena.playGames (2): 100%|██████████| 15/15 [06:06<00:00, 24.46s/it]\n",
      "Arena.playGames (1): 100%|██████████| 15/15 [06:49<00:00, 27.30s/it]\n",
      "Arena.playGames (2): 100%|██████████| 15/15 [06:20<00:00, 25.35s/it]\n",
      "Arena.playGames (1): 100%|██████████| 15/15 [06:22<00:00, 25.51s/it]\n",
      "Arena.playGames (2): 100%|██████████| 15/15 [06:26<00:00, 25.76s/it]\n"
     ]
    }
   ],
   "source": [
    "results_vs_random = []\n",
    "for i, chkpt in enumerate(range(1, NUM_CHKPTS + 1)):\n",
    "    n_games = N_GAMES\n",
    "    game = BloomsGame(size=BOARD_SIZE, score_target=SCORE_TARGET)\n",
    "\n",
    "    random_agent = RandomPlayer(game).play\n",
    "\n",
    "    wins, losses, draws = evaluate_agent(n_games, game, random_agent, CHKPT_DIR, f'checkpoint_{chkpt}.pth.tar')\n",
    "    win_percentage = wins / n_games\n",
    "\n",
    "    results_vs_random.append(win_percentage)\n",
    "    \n",
    "pickle.dump(results_vs_random, open(CHKPT_DIR + 'chkpt_evals_vs_random_agent.pkl', 'wb'))"
   ]
  },
  {
   "cell_type": "code",
   "execution_count": 5,
   "id": "banned-morrison",
   "metadata": {},
   "outputs": [
    {
     "data": {
      "image/png": "[encoded data removed]",
      "text/plain": [
       "<Figure size 432x288 with 1 Axes>"
      ]
     },
     "metadata": {
      "needs_background": "light"
     },
     "output_type": "display_data"
    }
   ],
   "source": [
    "fig, ax = plt.subplots(1)\n",
    "\n",
    "results_vs_random = pickle.load(open(CHKPT_DIR + 'chkpt_evals_vs_random_agent.pkl', 'rb'))\n",
    "checkpoints = range(1, NUM_CHKPTS + 1)\n",
    "plt.plot(checkpoints, results_vs_random)\n",
    "\n",
    "plt.xlabel('Iteration')\n",
    "plt.ylabel('Win Percentage')\n",
    "plt.ylim(0, 1)\n",
    "plt.title('Progressive Performance Against a Random Agent')\n",
    "plt.show()"
   ]
  },
  {
   "cell_type": "markdown",
   "id": "spare-duplicate",
   "metadata": {},
   "source": [
    "## Evaluate Against a Greedy Agent"
   ]
  },
  {
   "cell_type": "code",
   "execution_count": 6,
   "id": "controlling-strength",
   "metadata": {},
   "outputs": [
    {
     "name": "stderr",
     "output_type": "stream",
     "text": [
      "Arena.playGames (1): 100%|██████████| 15/15 [08:39<00:00, 34.62s/it]\n",
      "Arena.playGames (2): 100%|██████████| 15/15 [07:46<00:00, 31.13s/it]\n",
      "Arena.playGames (1): 100%|██████████| 15/15 [08:41<00:00, 34.75s/it]\n",
      "Arena.playGames (2): 100%|██████████| 15/15 [07:42<00:00, 30.86s/it]\n",
      "Arena.playGames (1): 100%|██████████| 15/15 [08:40<00:00, 34.72s/it]\n",
      "Arena.playGames (2): 100%|██████████| 15/15 [07:46<00:00, 31.08s/it]\n",
      "Arena.playGames (1): 100%|██████████| 15/15 [08:38<00:00, 34.56s/it]\n",
      "Arena.playGames (2): 100%|██████████| 15/15 [07:46<00:00, 31.13s/it]\n",
      "Arena.playGames (1): 100%|██████████| 15/15 [08:40<00:00, 34.72s/it]\n",
      "Arena.playGames (2): 100%|██████████| 15/15 [07:47<00:00, 31.18s/it]\n",
      "Arena.playGames (1): 100%|██████████| 15/15 [08:40<00:00, 34.68s/it]\n",
      "Arena.playGames (2): 100%|██████████| 15/15 [07:40<00:00, 30.71s/it]\n",
      "Arena.playGames (1): 100%|██████████| 15/15 [08:46<00:00, 35.07s/it]\n",
      "Arena.playGames (2): 100%|██████████| 15/15 [07:53<00:00, 31.58s/it]\n",
      "Arena.playGames (1): 100%|██████████| 15/15 [08:40<00:00, 34.68s/it]\n",
      "Arena.playGames (2): 100%|██████████| 15/15 [07:38<00:00, 30.56s/it]\n",
      "Arena.playGames (1): 100%|██████████| 15/15 [08:37<00:00, 34.52s/it]\n",
      "Arena.playGames (2): 100%|██████████| 15/15 [07:34<00:00, 30.27s/it]\n",
      "Arena.playGames (1): 100%|██████████| 15/15 [08:07<00:00, 32.49s/it]\n",
      "Arena.playGames (2): 100%|██████████| 15/15 [08:17<00:00, 33.17s/it]\n",
      "Arena.playGames (1): 100%|██████████| 15/15 [08:43<00:00, 34.90s/it]\n",
      "Arena.playGames (2): 100%|██████████| 15/15 [07:41<00:00, 30.75s/it]\n",
      "Arena.playGames (1): 100%|██████████| 15/15 [08:41<00:00, 34.76s/it]\n",
      "Arena.playGames (2): 100%|██████████| 15/15 [07:51<00:00, 31.42s/it]\n",
      "Arena.playGames (1): 100%|██████████| 15/15 [08:37<00:00, 34.49s/it]\n",
      "Arena.playGames (2): 100%|██████████| 15/15 [08:52<00:00, 35.53s/it]\n"
     ]
    }
   ],
   "source": [
    "results_vs_greedy = []\n",
    "for i, chkpt in enumerate(range(1, NUM_CHKPTS + 1)):\n",
    "    n_games = N_GAMES\n",
    "    game = BloomsGame(size=BOARD_SIZE, score_target=SCORE_TARGET)\n",
    "\n",
    "    greedy_agent = GreedyPlayer(game).play\n",
    "\n",
    "    wins, losses, draws = evaluate_agent(n_games, game, greedy_agent, CHKPT_DIR, f'checkpoint_{chkpt}.pth.tar')\n",
    "    win_percentage = wins / n_games\n",
    "\n",
    "    results_vs_greedy.append(win_percentage)\n",
    "    \n",
    "pickle.dump(results_vs_greedy, open(CHKPT_DIR + 'chkpt_evals_vs_greedy_agent.pkl', 'wb'))"
   ]
  },
  {
   "cell_type": "code",
   "execution_count": 7,
   "id": "australian-valentine",
   "metadata": {},
   "outputs": [
    {
     "data": {
      "image/png": "[encoded data removed]",
      "text/plain": [
       "<Figure size 432x288 with 1 Axes>"
      ]
     },
     "metadata": {
      "needs_background": "light"
     },
     "output_type": "display_data"
    }
   ],
   "source": [
    "fig, ax = plt.subplots(1)\n",
    "\n",
    "results_vs_greedy = pickle.load(open(CHKPT_DIR + 'chkpt_evals_vs_greedy_agent.pkl', 'rb'))\n",
    "checkpoints = range(1, NUM_CHKPTS + 1)\n",
    "plt.plot(checkpoints, results_vs_greedy)\n",
    "\n",
    "plt.xlabel('Iteration')\n",
    "plt.ylabel('Win Percentage')\n",
    "plt.ylim(0, 1)\n",
    "plt.title('Progressive Performance Against a Greedy Agent')\n",
    "plt.show()"
   ]
  },
  {
   "cell_type": "code",
   "execution_count": null,
   "id": "available-liberal",
   "metadata": {},
   "outputs": [],
   "source": []
  }
 ],
 "metadata": {
  "kernelspec": {
   "display_name": "Python [conda env:pytorch-1.7.1]",
   "language": "python",
   "name": "conda-env-pytorch-1.7.1-py"
  },
  "language_info": {
   "codemirror_mode": {
    "name": "ipython",
    "version": 3
   },
   "file_extension": ".py",
   "mimetype": "text/x-python",
   "name": "python",
   "nbconvert_exporter": "python",
   "pygments_lexer": "ipython3",
   "version": "3.8.5"
  }
 },
 "nbformat": 4,
 "nbformat_minor": 5
}
