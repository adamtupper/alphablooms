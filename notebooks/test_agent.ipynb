{
 "cells": [
  {
   "cell_type": "markdown",
   "id": "measured-filename",
   "metadata": {},
   "source": [
    "# Test Training Run Checkpoints Against a Random Agent to see if Training Succeeded\n",
    "\n",
    "This notebook performs a basic check to compare each checkpoint of a training run against a random agent. If the training run is successful, we should observe improved performance over time."
   ]
  },
  {
   "cell_type": "code",
   "execution_count": 1,
   "id": "consistent-eagle",
   "metadata": {},
   "outputs": [],
   "source": [
    "CHKPT_DIR = 'results/chkpts_board5_24hrs/'  # The path to the checkpoints directory\n",
    "NUM_CHKPTS = 6                              # The number of checkpoints in the checkpoints directory\n",
    "NUM_MCTS_SIMS = 100                         # This should match the number of MCTS simulations used during training\n",
    "BOARD_SIZE = 5                              # This should match the board size used during training\n",
    "SCORE_TARGET = 20                           # This should match the score target used during training\n",
    "N_GAMES = 30                                # The number of games to play for each evaluation\n",
    "CPUS = 4.0                                  # Number of CPU cores to use"
   ]
  },
  {
   "cell_type": "markdown",
   "id": "copyrighted-martin",
   "metadata": {},
   "source": [
    "## Imports"
   ]
  },
  {
   "cell_type": "code",
   "execution_count": 2,
   "id": "quiet-bennett",
   "metadata": {},
   "outputs": [],
   "source": [
    "import pickle\n",
    "import sys\n",
    "sys.path.append('..')\n",
    "\n",
    "import numpy as np\n",
    "import matplotlib.pyplot as plt\n",
    "\n",
    "import Arena\n",
    "from MCTS import MCTS\n",
    "from utils import *\n",
    "\n",
    "from blooms.BloomsGame import BloomsGame\n",
    "from blooms.BloomsPlayers import RandomPlayer, GreedyPlayer\n",
    "from blooms.pytorch.NNet import NNetWrapper as BloomsPyTorchNNet"
   ]
  },
  {
   "cell_type": "markdown",
   "id": "future-impression",
   "metadata": {},
   "source": [
    "## Evaluation Function"
   ]
  },
  {
   "cell_type": "code",
   "execution_count": 3,
   "id": "alternate-morning",
   "metadata": {},
   "outputs": [],
   "source": [
    "def evaluate_agent(n_games, game, opponent, chkpt_dir, chkpt_filename):\n",
    "    \"\"\"Compare the performance of an agent against an Opponent.\n",
    "    \"\"\"\n",
    "    model = BloomsPyTorchNNet(game)\n",
    "    model.load_checkpoint(chkpt_dir, chkpt_filename)\n",
    "    args = dotdict({'numMCTSSims': NUM_MCTS_SIMS, 'cpuct': CPUS})\n",
    "    mcts = MCTS(game, model, args)\n",
    "    agent = lambda x: np.argmax(mcts.getActionProb(x, temp=0))\n",
    "\n",
    "    arena = Arena.Arena(agent, opponent, game)\n",
    "    wins, losses, draws = arena.playGames(n_games, verbose=False)\n",
    "    \n",
    "    return wins, losses, draws"
   ]
  },
  {
   "cell_type": "markdown",
   "id": "incomplete-craps",
   "metadata": {},
   "source": [
    "## Evaluate Against a Random Agent"
   ]
  },
  {
   "cell_type": "code",
   "execution_count": 4,
   "id": "rural-concentrate",
   "metadata": {},
   "outputs": [
    {
     "name": "stderr",
     "output_type": "stream",
     "text": [
      "Arena.playGames (1): 100%|██████████| 15/15 [15:21<00:00, 61.41s/it]\n",
      "Arena.playGames (2): 100%|██████████| 15/15 [15:01<00:00, 60.09s/it]\n",
      "Arena.playGames (1): 100%|██████████| 15/15 [15:52<00:00, 63.52s/it]\n",
      "Arena.playGames (2): 100%|██████████| 15/15 [15:08<00:00, 60.59s/it]\n",
      "Arena.playGames (1): 100%|██████████| 15/15 [18:13<00:00, 72.87s/it]\n",
      "Arena.playGames (2): 100%|██████████| 15/15 [18:25<00:00, 73.73s/it]\n",
      "Arena.playGames (1): 100%|██████████| 15/15 [18:06<00:00, 72.41s/it]\n",
      "Arena.playGames (2): 100%|██████████| 15/15 [17:58<00:00, 71.90s/it]\n",
      "Arena.playGames (1): 100%|██████████| 15/15 [19:04<00:00, 76.29s/it]\n",
      "Arena.playGames (2): 100%|██████████| 15/15 [18:46<00:00, 75.08s/it]\n",
      "Arena.playGames (1): 100%|██████████| 15/15 [18:39<00:00, 74.65s/it]\n",
      "Arena.playGames (2): 100%|██████████| 15/15 [18:27<00:00, 73.83s/it]\n"
     ]
    }
   ],
   "source": [
    "results_vs_random = []\n",
    "for i, chkpt in enumerate(range(1, NUM_CHKPTS + 1)):\n",
    "    n_games = N_GAMES\n",
    "    game = BloomsGame(size=BOARD_SIZE, score_target=SCORE_TARGET)\n",
    "\n",
    "    random_agent = RandomPlayer(game).play\n",
    "\n",
    "    wins, losses, draws = evaluate_agent(n_games, game, random_agent, CHKPT_DIR, f'checkpoint_{chkpt}.pth.tar')\n",
    "    win_percentage = wins / n_games\n",
    "\n",
    "    results_vs_random.append(win_percentage)\n",
    "    \n",
    "pickle.dump(results_vs_random, open(CHKPT_DIR + 'chkpt_evals_vs_random_agent.pkl', 'wb'))"
   ]
  },
  {
   "cell_type": "code",
   "execution_count": 5,
   "id": "northern-journey",
   "metadata": {},
   "outputs": [
    {
     "data": {
      "image/png": "[encoded data removed]",
      "text/plain": [
       "<Figure size 432x288 with 1 Axes>"
      ]
     },
     "metadata": {
      "needs_background": "light"
     },
     "output_type": "display_data"
    }
   ],
   "source": [
    "fig, ax = plt.subplots(1)\n",
    "\n",
    "results_vs_random = pickle.load(open(CHKPT_DIR + 'chkpt_evals_vs_random_agent.pkl', 'rb'))\n",
    "checkpoints = range(1, NUM_CHKPTS + 1)\n",
    "plt.plot(checkpoints, results_vs_random)\n",
    "\n",
    "plt.xlabel('Iteration')\n",
    "plt.ylabel('Win Percentage')\n",
    "plt.ylim(0, 1)\n",
    "plt.title('Progressive Performance Against a Random Agent')\n",
    "plt.show()"
   ]
  },
  {
   "cell_type": "markdown",
   "id": "offensive-connection",
   "metadata": {},
   "source": [
    "## Evaluate Against a Greedy Agent"
   ]
  },
  {
   "cell_type": "code",
   "execution_count": 6,
   "id": "adequate-headset",
   "metadata": {},
   "outputs": [
    {
     "name": "stderr",
     "output_type": "stream",
     "text": [
      "Arena.playGames (1): 100%|██████████| 15/15 [19:40<00:00, 78.69s/it]\n",
      "Arena.playGames (2): 100%|██████████| 15/15 [18:57<00:00, 75.81s/it]\n",
      "Arena.playGames (1): 100%|██████████| 15/15 [19:33<00:00, 78.24s/it]\n",
      "Arena.playGames (2): 100%|██████████| 15/15 [19:04<00:00, 76.30s/it]\n",
      "Arena.playGames (1): 100%|██████████| 15/15 [21:15<00:00, 85.01s/it]\n",
      "Arena.playGames (2): 100%|██████████| 15/15 [20:55<00:00, 83.67s/it]\n",
      "Arena.playGames (1): 100%|██████████| 15/15 [21:36<00:00, 86.43s/it]\n",
      "Arena.playGames (2): 100%|██████████| 15/15 [20:43<00:00, 82.87s/it]\n",
      "Arena.playGames (1): 100%|██████████| 15/15 [21:48<00:00, 87.24s/it]\n",
      "Arena.playGames (2): 100%|██████████| 15/15 [21:51<00:00, 87.42s/it]\n",
      "Arena.playGames (1): 100%|██████████| 15/15 [21:59<00:00, 87.97s/it]\n",
      "Arena.playGames (2): 100%|██████████| 15/15 [21:51<00:00, 87.41s/it]\n"
     ]
    }
   ],
   "source": [
    "results_vs_greedy = []\n",
    "for i, chkpt in enumerate(range(1, NUM_CHKPTS + 1)):\n",
    "    n_games = N_GAMES\n",
    "    game = BloomsGame(size=BOARD_SIZE, score_target=SCORE_TARGET)\n",
    "\n",
    "    greedy_agent = GreedyPlayer(game).play\n",
    "\n",
    "    wins, losses, draws = evaluate_agent(n_games, game, greedy_agent, CHKPT_DIR, f'checkpoint_{chkpt}.pth.tar')\n",
    "    win_percentage = wins / n_games\n",
    "\n",
    "    results_vs_greedy.append(win_percentage)\n",
    "    \n",
    "pickle.dump(results_vs_greedy, open(CHKPT_DIR + 'chkpt_evals_vs_greedy_agent.pkl', 'wb'))"
   ]
  },
  {
   "cell_type": "code",
   "execution_count": 7,
   "id": "continuing-illinois",
   "metadata": {},
   "outputs": [
    {
     "data": {
      "image/png": "[encoded data removed]",
      "text/plain": [
       "<Figure size 432x288 with 1 Axes>"
      ]
     },
     "metadata": {
      "needs_background": "light"
     },
     "output_type": "display_data"
    }
   ],
   "source": [
    "fig, ax = plt.subplots(1)\n",
    "\n",
    "results_vs_greedy = pickle.load(open(CHKPT_DIR + 'chkpt_evals_vs_greedy_agent.pkl', 'rb'))\n",
    "checkpoints = range(1, NUM_CHKPTS + 1)\n",
    "plt.plot(checkpoints, results_vs_greedy)\n",
    "\n",
    "plt.xlabel('Iteration')\n",
    "plt.ylabel('Win Percentage')\n",
    "plt.ylim(0, 1)\n",
    "plt.title('Progressive Performance Against a Greedy Agent')\n",
    "plt.show()"
   ]
  },
  {
   "cell_type": "code",
   "execution_count": null,
   "id": "quiet-kruger",
   "metadata": {},
   "outputs": [],
   "source": []
  }
 ],
 "metadata": {
  "kernelspec": {
   "display_name": "Python [conda env:pytorch-1.7.1]",
   "language": "python",
   "name": "conda-env-pytorch-1.7.1-py"
  },
  "language_info": {
   "codemirror_mode": {
    "name": "ipython",
    "version": 3
   },
   "file_extension": ".py",
   "mimetype": "text/x-python",
   "name": "python",
   "nbconvert_exporter": "python",
   "pygments_lexer": "ipython3",
   "version": "3.8.5"
  }
 },
 "nbformat": 4,
 "nbformat_minor": 5
}
