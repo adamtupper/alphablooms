{
 "cells": [
  {
   "cell_type": "markdown",
   "id": "computational-carbon",
   "metadata": {},
   "source": [
    "# Test Training Run Checkpoints Against a Random Agent to see if Training Succeeded\n",
    "\n",
    "This notebook performs a basic check to compare each checkpoint of a training run against a random agent. If the training run is successful, we should observe improved performance over time."
   ]
  },
  {
   "cell_type": "code",
   "execution_count": 2,
   "id": "circular-assembly",
   "metadata": {},
   "outputs": [],
   "source": [
    "CHKPT_DIR = 'checkpoints_run_3/'  # The path to the checkpoints directory\n",
    "NUM_CHKPTS = 10                   # The number of checkpoints in the checkpoints directory\n",
    "NUM_MCTS_SIMS = 25                # This should match the number of MCTS simulations used during training\n",
    "BOARD_SIZE = 4                    # This should match the board size used during training\n",
    "SCORE_TARGET = 15                 # This should match the score target used during training"
   ]
  },
  {
   "cell_type": "markdown",
   "id": "waiting-cycle",
   "metadata": {},
   "source": [
    "## Imports"
   ]
  },
  {
   "cell_type": "code",
   "execution_count": 3,
   "id": "sublime-franchise",
   "metadata": {},
   "outputs": [],
   "source": [
    "import sys\n",
    "sys.path.append('..')\n",
    "\n",
    "import numpy as np\n",
    "import matplotlib.pyplot as plt\n",
    "\n",
    "import Arena\n",
    "from MCTS import MCTS\n",
    "from utils import *\n",
    "\n",
    "from blooms.BloomsGame import BloomsGame\n",
    "from blooms.BloomsPlayers import RandomPlayer\n",
    "from blooms.pytorch.NNet import NNetWrapper as BloomsPyTorchNNet"
   ]
  },
  {
   "cell_type": "markdown",
   "id": "derived-mixture",
   "metadata": {},
   "source": [
    "## Evaluate Agent"
   ]
  },
  {
   "cell_type": "code",
   "execution_count": 4,
   "id": "canadian-ground",
   "metadata": {},
   "outputs": [],
   "source": [
    "def evaluate_agent(n_games, game, opponent, chkpt_dir, chkpt_filename):\n",
    "    \"\"\"Compare the performance of an agent against an Opponent.\n",
    "    \"\"\"\n",
    "    model = BloomsPyTorchNNet(game)\n",
    "    model.load_checkpoint(chkpt_dir, chkpt_filename)\n",
    "    args = dotdict({'numMCTSSims': NUM_MCTS_SIMS, 'cpuct': 1.0})\n",
    "    mcts = MCTS(game, model, args)\n",
    "    agent = lambda x: np.argmax(mcts.getActionProb(x, temp=0))\n",
    "\n",
    "    arena = Arena.Arena(agent, opponent, game)\n",
    "    wins, losses, draws = arena.playGames(n_games, verbose=False)\n",
    "    \n",
    "    return wins, losses, draws"
   ]
  },
  {
   "cell_type": "code",
   "execution_count": 5,
   "id": "organizational-vermont",
   "metadata": {},
   "outputs": [
    {
     "name": "stderr",
     "output_type": "stream",
     "text": [
      "Arena.playGames (1): 100%|██████████| 5/5 [00:31<00:00,  6.34s/it]\n",
      "Arena.playGames (2): 100%|██████████| 5/5 [00:28<00:00,  5.70s/it]\n",
      "Arena.playGames (1): 100%|██████████| 5/5 [00:31<00:00,  6.32s/it]\n",
      "Arena.playGames (2): 100%|██████████| 5/5 [00:29<00:00,  5.93s/it]\n",
      "Arena.playGames (1): 100%|██████████| 5/5 [00:32<00:00,  6.51s/it]\n",
      "Arena.playGames (2): 100%|██████████| 5/5 [00:29<00:00,  5.92s/it]\n",
      "Arena.playGames (1): 100%|██████████| 5/5 [00:29<00:00,  5.90s/it]\n",
      "Arena.playGames (2): 100%|██████████| 5/5 [00:28<00:00,  5.65s/it]\n",
      "Arena.playGames (1): 100%|██████████| 5/5 [00:30<00:00,  6.05s/it]\n",
      "Arena.playGames (2): 100%|██████████| 5/5 [00:31<00:00,  6.21s/it]\n",
      "Arena.playGames (1): 100%|██████████| 5/5 [00:27<00:00,  5.49s/it]\n",
      "Arena.playGames (2): 100%|██████████| 5/5 [00:27<00:00,  5.56s/it]\n",
      "Arena.playGames (1): 100%|██████████| 5/5 [00:28<00:00,  5.79s/it]\n",
      "Arena.playGames (2): 100%|██████████| 5/5 [00:27<00:00,  5.56s/it]\n",
      "Arena.playGames (1): 100%|██████████| 5/5 [00:30<00:00,  6.10s/it]\n",
      "Arena.playGames (2): 100%|██████████| 5/5 [00:29<00:00,  5.86s/it]\n",
      "Arena.playGames (1): 100%|██████████| 5/5 [00:29<00:00,  5.97s/it]\n",
      "Arena.playGames (2): 100%|██████████| 5/5 [00:28<00:00,  5.67s/it]\n",
      "Arena.playGames (1): 100%|██████████| 5/5 [00:30<00:00,  6.09s/it]\n",
      "Arena.playGames (2): 100%|██████████| 5/5 [00:27<00:00,  5.55s/it]\n"
     ]
    }
   ],
   "source": [
    "results_vs_random = []\n",
    "for i, chkpt in enumerate(range(1, NUM_CHKPTS + 1)): \n",
    "    n_games = 10\n",
    "    game = BloomsGame(size=BOARD_SIZE, score_target=SCORE_TARGET)\n",
    "\n",
    "    random_agent = RandomPlayer(game).play\n",
    "\n",
    "    wins, losses, draws = evaluate_agent(n_games, game, random_agent, CHKPT_DIR, f'checkpoint_{chkpt}.pth.tar')\n",
    "    win_percentage = wins / n_games\n",
    "\n",
    "    results_vs_random.append(win_percentage)"
   ]
  },
  {
   "cell_type": "markdown",
   "id": "invisible-turkish",
   "metadata": {},
   "source": [
    "## Plot Results"
   ]
  },
  {
   "cell_type": "code",
   "execution_count": 6,
   "id": "respiratory-testing",
   "metadata": {},
   "outputs": [
    {
     "data": {
      "image/png": "[encoded data removed]",
      "text/plain": [
       "<Figure size 432x288 with 1 Axes>"
      ]
     },
     "metadata": {
      "needs_background": "light"
     },
     "output_type": "display_data"
    }
   ],
   "source": [
    "fig, ax = plt.subplots(1)\n",
    "\n",
    "checkpoints = range(1, 11)\n",
    "plt.plot(checkpoints, results_vs_random)\n",
    "\n",
    "plt.xlabel('Iteration')\n",
    "plt.ylabel('Win Percentage')\n",
    "plt.ylim(0, 1)\n",
    "plt.title('Progressive Performance Against a Random Agent')\n",
    "plt.show()"
   ]
  },
  {
   "cell_type": "code",
   "execution_count": null,
   "id": "stupid-contemporary",
   "metadata": {},
   "outputs": [],
   "source": []
  }
 ],
 "metadata": {
  "kernelspec": {
   "display_name": "Python [conda env:pytorch-1.7.1]",
   "language": "python",
   "name": "conda-env-pytorch-1.7.1-py"
  },
  "language_info": {
   "codemirror_mode": {
    "name": "ipython",
    "version": 3
   },
   "file_extension": ".py",
   "mimetype": "text/x-python",
   "name": "python",
   "nbconvert_exporter": "python",
   "pygments_lexer": "ipython3",
   "version": "3.8.5"
  }
 },
 "nbformat": 4,
 "nbformat_minor": 5
}
