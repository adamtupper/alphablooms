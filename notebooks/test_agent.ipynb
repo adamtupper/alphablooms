{
 "cells": [
  {
   "cell_type": "markdown",
   "metadata": {},
   "source": [
    "# Test Training Run Checkpoints Against a Random Agent to see if Training Succeeded\n",
    "\n",
    "This notebook performs a basic check to compare each checkpoint of a training run against a random agent. If the training run is successful, we should observe improved performance over time."
   ]
  },
  {
   "cell_type": "code",
   "execution_count": 7,
   "metadata": {},
   "outputs": [],
   "source": [
    "CHKPT_DIR = 'chkpts_mcts_sims_100/'  # The path to the checkpoints directory\n",
    "NUM_CHKPTS = 10                      # The number of checkpoints in the checkpoints directory\n",
    "NUM_MCTS_SIMS = 100                  # This should match the number of MCTS simulations used during training\n",
    "BOARD_SIZE = 4                       # This should match the board size used during training\n",
    "SCORE_TARGET = 15                    # This should match the score target used during training\n",
    "N_GAMES = 30                         # The number of games to play for each evaluation\n",
    "CPUS = 4.0                           # Number of CPU cores to use"
   ]
  },
  {
   "cell_type": "markdown",
   "metadata": {},
   "source": [
    "## Imports"
   ]
  },
  {
   "cell_type": "code",
   "execution_count": 8,
   "metadata": {},
   "outputs": [],
   "source": [
    "import pickle\n",
    "import sys\n",
    "sys.path.append('..')\n",
    "\n",
    "import numpy as np\n",
    "import matplotlib.pyplot as plt\n",
    "\n",
    "import Arena\n",
    "from MCTS import MCTS\n",
    "from utils import *\n",
    "\n",
    "from blooms.BloomsGame import BloomsGame\n",
    "from blooms.BloomsPlayers import RandomPlayer\n",
    "from blooms.pytorch.NNet import NNetWrapper as BloomsPyTorchNNet"
   ]
  },
  {
   "cell_type": "markdown",
   "metadata": {},
   "source": [
    "## Evaluation Function"
   ]
  },
  {
   "cell_type": "code",
   "execution_count": 9,
   "metadata": {},
   "outputs": [],
   "source": [
    "def evaluate_agent(n_games, game, opponent, chkpt_dir, chkpt_filename):\n",
    "    \"\"\"Compare the performance of an agent against an Opponent.\n",
    "    \"\"\"\n",
    "    model = BloomsPyTorchNNet(game)\n",
    "    model.load_checkpoint(chkpt_dir, chkpt_filename)\n",
    "    args = dotdict({'numMCTSSims': NUM_MCTS_SIMS, 'cpuct': CPUS})\n",
    "    mcts = MCTS(game, model, args)\n",
    "    agent = lambda x: np.argmax(mcts.getActionProb(x, temp=0))\n",
    "\n",
    "    arena = Arena.Arena(agent, opponent, game)\n",
    "    wins, losses, draws = arena.playGames(n_games, verbose=False)\n",
    "    \n",
    "    return wins, losses, draws"
   ]
  },
  {
   "cell_type": "markdown",
   "metadata": {},
   "source": [
    "## Evaluate Against a Random Agent"
   ]
  },
  {
   "cell_type": "code",
   "execution_count": 10,
   "metadata": {},
   "outputs": [
    {
     "name": "stderr",
     "output_type": "stream",
     "text": [
      "Arena.playGames (1): 100%|██████████| 5/5 [01:59<00:00, 23.85s/it]\n",
      "Arena.playGames (2): 100%|██████████| 5/5 [02:03<00:00, 24.69s/it]\n",
      "Arena.playGames (1): 100%|██████████| 5/5 [02:13<00:00, 26.68s/it]\n",
      "Arena.playGames (2): 100%|██████████| 5/5 [02:01<00:00, 24.22s/it]\n",
      "Arena.playGames (1): 100%|██████████| 5/5 [02:01<00:00, 24.32s/it]\n",
      "Arena.playGames (2): 100%|██████████| 5/5 [02:10<00:00, 26.08s/it]\n",
      "Arena.playGames (1): 100%|██████████| 5/5 [02:13<00:00, 26.80s/it]\n",
      "Arena.playGames (2): 100%|██████████| 5/5 [02:15<00:00, 27.02s/it]\n",
      "Arena.playGames (1): 100%|██████████| 5/5 [02:15<00:00, 27.09s/it]\n",
      "Arena.playGames (2): 100%|██████████| 5/5 [02:17<00:00, 27.56s/it]\n",
      "Arena.playGames (1): 100%|██████████| 5/5 [02:07<00:00, 25.60s/it]\n",
      "Arena.playGames (2): 100%|██████████| 5/5 [02:10<00:00, 26.16s/it]\n",
      "Arena.playGames (1): 100%|██████████| 5/5 [02:09<00:00, 25.96s/it]\n",
      "Arena.playGames (2): 100%|██████████| 5/5 [02:15<00:00, 27.13s/it]\n",
      "Arena.playGames (1): 100%|██████████| 5/5 [02:03<00:00, 24.62s/it]\n",
      "Arena.playGames (2): 100%|██████████| 5/5 [01:59<00:00, 23.90s/it]\n",
      "Arena.playGames (1): 100%|██████████| 5/5 [02:09<00:00, 25.94s/it]\n",
      "Arena.playGames (2): 100%|██████████| 5/5 [02:00<00:00, 24.09s/it]\n",
      "Arena.playGames (1): 100%|██████████| 5/5 [02:11<00:00, 26.24s/it]\n",
      "Arena.playGames (2): 100%|██████████| 5/5 [01:59<00:00, 23.94s/it]\n"
     ]
    }
   ],
   "source": [
    "results_vs_random = []\n",
    "for i, chkpt in enumerate(range(1, NUM_CHKPTS + 1)): \n",
    "    n_games = N_GAMES\n",
    "    game = BloomsGame(size=BOARD_SIZE, score_target=SCORE_TARGET)\n",
    "\n",
    "    random_agent = RandomPlayer(game).play\n",
    "\n",
    "    wins, losses, draws = evaluate_agent(n_games, game, random_agent, CHKPT_DIR, f'checkpoint_{chkpt}.pth.tar')\n",
    "    win_percentage = wins / n_games\n",
    "\n",
    "    results_vs_random.append(win_percentage)\n",
    "    \n",
    "pickle.dump(results_vs_random, open(CHKPT_DIR + 'chkpt_evals_vs_random_agent.pkl', 'rb'))"
   ]
  },
  {
   "cell_type": "code",
   "execution_count": 12,
   "metadata": {},
   "outputs": [
    {
     "data": {
      "image/png": "[encoded data removed]",
      "text/plain": [
       "<Figure size 432x288 with 1 Axes>"
      ]
     },
     "metadata": {
      "needs_background": "light"
     },
     "output_type": "display_data"
    }
   ],
   "source": [
    "fig, ax = plt.subplots(1)\n",
    "\n",
    "checkpoints = range(1, NUM_CHKPTS + 1)\n",
    "plt.plot(checkpoints, results_vs_random)\n",
    "\n",
    "plt.xlabel('Iteration')\n",
    "plt.ylabel('Win Percentage')\n",
    "plt.ylim(0, 1)\n",
    "plt.title('Progressive Performance Against a Random Agent')\n",
    "plt.show()"
   ]
  },
  {
   "cell_type": "code",
   "execution_count": null,
   "metadata": {},
   "outputs": [],
   "source": []
  }
 ],
 "metadata": {
  "kernelspec": {
   "display_name": "Python [conda env:pytorch-1.7.1]",
   "language": "python",
   "name": "conda-env-pytorch-1.7.1-py"
  },
  "language_info": {
   "codemirror_mode": {
    "name": "ipython",
    "version": 3
   },
   "file_extension": ".py",
   "mimetype": "text/x-python",
   "name": "python",
   "nbconvert_exporter": "python",
   "pygments_lexer": "ipython3",
   "version": "3.8.5"
  }
 },
 "nbformat": 4,
 "nbformat_minor": 5
}
