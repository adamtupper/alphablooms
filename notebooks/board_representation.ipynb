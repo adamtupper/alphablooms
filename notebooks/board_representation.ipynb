{
 "cells": [
  {
   "cell_type": "markdown",
   "id": "shaped-alexandria",
   "metadata": {},
   "source": [
    "# Board Representation and Visualisation using Arrays\n",
    "\n",
    "This notebook defines a board representation based on [this guide](https://www.redblobgames.com/grids/hexagons/) and provides code for visualising the layout.\n",
    "\n",
    "The board representation is defined using Numpy arrays in a way that should be able to passed as input to a CNN."
   ]
  },
  {
   "cell_type": "markdown",
   "id": "yellow-resource",
   "metadata": {},
   "source": [
    "## Install Dependencies\n",
    "\n",
    "The following dependencies are required to run this notebook (in addition to PyTorch)."
   ]
  },
  {
   "cell_type": "code",
   "execution_count": 1,
   "id": "absent-millennium",
   "metadata": {},
   "outputs": [],
   "source": [
    "%%bash\n",
    "\n",
    "# pip install numpy\n",
    "# pip install matplotlib\n",
    "# pip install hexagdly"
   ]
  },
  {
   "cell_type": "markdown",
   "id": "above-sheet",
   "metadata": {},
   "source": [
    "## Imports"
   ]
  },
  {
   "cell_type": "code",
   "execution_count": 2,
   "id": "beautiful-mattress",
   "metadata": {},
   "outputs": [],
   "source": [
    "import numpy as np\n",
    "import matplotlib.pyplot as plt\n",
    "from matplotlib.patches import RegularPolygon\n",
    "\n",
    "import torch\n",
    "import hexagdly"
   ]
  },
  {
   "cell_type": "markdown",
   "id": "foreign-buffalo",
   "metadata": {},
   "source": [
    "## Define and Visualise the Board Representation\n",
    "\n",
    "The board is represented as a $4 \\times (2N - 1) \\times (2N - 1)$ array, where each channel stores the locations of pieces of a specific colour and each index $(c, q, r)$ represents a cell with [axial coordinates](https://www.redblobgames.com/grids/hexagons/#coordinates-axial) $(q, r)$."
   ]
  },
  {
   "cell_type": "code",
   "execution_count": 3,
   "id": "reverse-monitoring",
   "metadata": {},
   "outputs": [
    {
     "data": {
      "image/png": "[encoded data removed]",
      "text/plain": [
       "<Figure size 432x288 with 1 Axes>"
      ]
     },
     "metadata": {
      "needs_background": "light"
     },
     "output_type": "display_data"
    }
   ],
   "source": [
    "def generate_board(n):\n",
    "    \"\"\"Generate a 2D array that stores the position and state\n",
    "    of each cell in axial coordinates.\n",
    "    \"\"\"\n",
    "    board = np.zeros((4, 2*n - 1, 2*n - 1))\n",
    "\n",
    "    return board\n",
    "\n",
    "def axial_to_pixel(q, r):\n",
    "    \"\"\"Convert axial coordinates to pixel (i.e. cartesian\n",
    "    coordinates).\n",
    "    \"\"\"\n",
    "    x = np.sqrt(3) * q  +  np.sqrt(3) / 2 * r\n",
    "    y = 3 / 2 * r\n",
    "    return x, y\n",
    "\n",
    "def draw_board(board):\n",
    "    \"\"\"Visualise the board using matplotlib.\n",
    "    \"\"\"\n",
    "    n = (board.shape[-1] + 1) / 2\n",
    "\n",
    "    fig, ax = plt.subplots(1)\n",
    "    ax.set_aspect('equal')\n",
    "\n",
    "    for q in range(0, board.shape[-1]):\n",
    "        for r in range(0, board.shape[-1]):\n",
    "            if (q + r >= n - 1) and (4*n - 4 - q - r >= n - 1):\n",
    "                x, y = axial_to_pixel(q, r)\n",
    "                hexagon = RegularPolygon((x, y), numVertices=6, radius=1.75*np.sqrt(1/3), alpha=0.2, edgecolor='k', facecolor='C0')\n",
    "                ax.add_patch(hexagon)\n",
    "\n",
    "    #         # Uncomment to draw illegal cells (in a different colour)    \n",
    "    #         else:\n",
    "    #             x, y = axial_to_pixel(q, r)\n",
    "    #             hexagon = RegularPolygon((x, y), numVertices=6, radius=1.75*np.sqrt(1/3), alpha=0.2, edgecolor='k', facecolor='C1')\n",
    "    #             ax.add_patch(hexagon)\n",
    "\n",
    "    plt.autoscale(enable = True)\n",
    "    plt.show()\n",
    "    \n",
    "board = generate_board(n=3)\n",
    "draw_board(board)"
   ]
  },
  {
   "cell_type": "code",
   "execution_count": null,
   "id": "alternate-strike",
   "metadata": {},
   "outputs": [],
   "source": []
  }
 ],
 "metadata": {
  "kernelspec": {
   "display_name": "Python [conda env:pytorch-1.7.1]",
   "language": "python",
   "name": "conda-env-pytorch-1.7.1-py"
  },
  "language_info": {
   "codemirror_mode": {
    "name": "ipython",
    "version": 3
   },
   "file_extension": ".py",
   "mimetype": "text/x-python",
   "name": "python",
   "nbconvert_exporter": "python",
   "pygments_lexer": "ipython3",
   "version": "3.8.5"
  }
 },
 "nbformat": 4,
 "nbformat_minor": 5
}
