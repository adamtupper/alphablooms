{
 "cells": [
  {
   "cell_type": "markdown",
   "id": "antique-premises",
   "metadata": {},
   "source": [
    "# Evaluate AlphaBlooms Agents\n",
    "\n",
    "This notebook evaluates the performance of AlphaBlooms agents in comparison to random, greedy, and human baselines."
   ]
  },
  {
   "cell_type": "markdown",
   "id": "opposite-manner",
   "metadata": {},
   "source": [
    "## Imports"
   ]
  },
  {
   "cell_type": "code",
   "execution_count": 3,
   "id": "parallel-fairy",
   "metadata": {},
   "outputs": [],
   "source": [
    "import sys\n",
    "sys.path.append('..')\n",
    "\n",
    "import numpy as np\n",
    "import matplotlib.pyplot as plt\n",
    "\n",
    "import Arena\n",
    "from MCTS import MCTS\n",
    "from utils import *\n",
    "\n",
    "from blooms.BloomsGame import BloomsGame\n",
    "from blooms.BloomsPlayers import RandomPlayer, GreedyPlayer\n",
    "from blooms.pytorch.NNet import NNetWrapper as BloomsPyTorchNNet"
   ]
  },
  {
   "cell_type": "markdown",
   "id": "turned-monaco",
   "metadata": {},
   "source": [
    "## Evaluate Agent Against an Opponent"
   ]
  },
  {
   "cell_type": "code",
   "execution_count": 4,
   "id": "explicit-investigation",
   "metadata": {},
   "outputs": [],
   "source": [
    "def evaluate_agent(n_games, game, opponent, chkpt_dir, chkpt_filename):\n",
    "    \"\"\"Compare the performance of an agent against an Opponent.\n",
    "    \"\"\"\n",
    "    model = BloomsPyTorchNNet(game)\n",
    "    model.load_checkpoint(chkpt_dir, chkpt_filename)\n",
    "    args = dotdict({'numMCTSSims': 25, 'cpuct': 1.0})\n",
    "    mcts = MCTS(game, model, args)\n",
    "    agent = lambda x: np.argmax(mcts.getActionProb(x, temp=0))\n",
    "\n",
    "    arena = Arena.Arena(agent, opponent, game)\n",
    "    wins, losses, draws = arena.playGames(n_games, verbose=False)\n",
    "    \n",
    "    return wins, losses, draws"
   ]
  },
  {
   "cell_type": "markdown",
   "id": "olive-cancer",
   "metadata": {},
   "source": [
    "## Compare the Performance at each Checkpoint Against a Random Agent"
   ]
  },
  {
   "cell_type": "code",
   "execution_count": null,
   "id": "opposed-alberta",
   "metadata": {},
   "outputs": [],
   "source": [
    "results_vs_random = []\n",
    "for i, chkpt in enumerate(range(1, 11)):\n",
    "    results_vs_random.append([])\n",
    "    for _ in range(30):   \n",
    "        n_games = 10\n",
    "        game = BloomsGame(size=4, score_target=15)\n",
    "\n",
    "        random_agent = RandomPlayer(game).play\n",
    "\n",
    "        wins, losses, draws = evaluate_agent(n_games, game, random_agent, 'checkpoints_run_3/', f'checkpoint_{chkpt}.pth.tar')\n",
    "        win_percentage = wins / n_games\n",
    "        \n",
    "        results_vs_random[i].append(win_percentage)"
   ]
  },
  {
   "cell_type": "code",
   "execution_count": 7,
   "id": "harmful-secret",
   "metadata": {},
   "outputs": [],
   "source": [
    "results_vs_random = results"
   ]
  },
  {
   "cell_type": "code",
   "execution_count": 8,
   "id": "intermediate-bacon",
   "metadata": {},
   "outputs": [
    {
     "name": "stdout",
     "output_type": "stream",
     "text": [
      "# wins:   7\n",
      "# losses: 3\n",
      "# draws:  0\n",
      "\n",
      "Win percentage: 70.00%\n"
     ]
    }
   ],
   "source": [
    "print(f'# wins:   {wins}')\n",
    "print(f'# losses: {losses}')\n",
    "print(f'# draws:  {draws}')\n",
    "print()\n",
    "print(f'Win percentage: {win_percentage * 100:.2f}%')"
   ]
  },
  {
   "cell_type": "code",
   "execution_count": 16,
   "id": "voluntary-suffering",
   "metadata": {},
   "outputs": [
    {
     "data": {
      "image/png": "[encoded data removed]",
      "text/plain": [
       "<Figure size 432x288 with 1 Axes>"
      ]
     },
     "metadata": {
      "needs_background": "light"
     },
     "output_type": "display_data"
    }
   ],
   "source": [
    "fig, ax = plt.subplots(1)\n",
    "\n",
    "checkpoints = range(1, 9)\n",
    "means = np.array([np.mean(x) for x in results_vs_random])\n",
    "std_devs = np.array([np.std(x) for x in results_vs_random])\n",
    "\n",
    "plt.plot(checkpoints, means)\n",
    "plt.fill_between(checkpoints, means - std_devs, means + std_devs, alpha=0.2)\n",
    "\n",
    "plt.xlabel('Iteration')\n",
    "plt.ylabel('Win Percentage')\n",
    "plt.ylim(0, 1)\n",
    "plt.title('Progressive Performance Against the Random Agent')\n",
    "plt.savefig('outputs/performance_vs_random_agent.pdf')\n",
    "plt.show()"
   ]
  },
  {
   "cell_type": "markdown",
   "id": "satellite-framing",
   "metadata": {},
   "source": [
    "## Compare Performance Against a Greedy Agent"
   ]
  },
  {
   "cell_type": "code",
   "execution_count": 6,
   "id": "precise-copyright",
   "metadata": {},
   "outputs": [
    {
     "name": "stderr",
     "output_type": "stream",
     "text": [
      "Arena.playGames (1): 100%|██████████| 5/5 [00:42<00:00,  8.59s/it]\n",
      "Arena.playGames (2): 100%|██████████| 5/5 [00:38<00:00,  7.73s/it]\n"
     ]
    }
   ],
   "source": [
    "results_vs_greedy = []\n",
    "for i, chkpt in enumerate(range(1, 11)):\n",
    "    results_vs_greedy.append([])\n",
    "    for _ in range(30):   \n",
    "        n_games = 10\n",
    "        game = BloomsGame(size=4, score_target=15)\n",
    "\n",
    "        random_agent = RandomPlayer(game).play\n",
    "\n",
    "        wins, losses, draws = evaluate_agent(n_games, game, random_agent, 'checkpoints_run_3/', f'checkpoint_{chkpt}.pth.tar')\n",
    "        win_percentage = wins / n_games\n",
    "        \n",
    "        results_vs_greedy[i].append(win_percentage)"
   ]
  },
  {
   "cell_type": "code",
   "execution_count": 7,
   "id": "substantial-publisher",
   "metadata": {},
   "outputs": [
    {
     "name": "stdout",
     "output_type": "stream",
     "text": [
      "# wins:   10\n",
      "# losses: 0\n",
      "# draws:  0\n",
      "\n",
      "Win percentage: 100.00%\n"
     ]
    }
   ],
   "source": [
    "print(f'# wins:   {wins}')\n",
    "print(f'# losses: {losses}')\n",
    "print(f'# draws:  {draws}')\n",
    "print()\n",
    "print(f'Win percentage: {win_percentage * 100:.2f}%')"
   ]
  },
  {
   "cell_type": "code",
   "execution_count": 8,
   "id": "included-chest",
   "metadata": {},
   "outputs": [
    {
     "data": {
      "image/png": "[encoded data removed]",
      "text/plain": [
       "<Figure size 432x288 with 1 Axes>"
      ]
     },
     "metadata": {
      "needs_background": "light"
     },
     "output_type": "display_data"
    }
   ],
   "source": [
    "fig, ax = plt.subplots(1)\n",
    "\n",
    "checkpoints = range(1, 11)\n",
    "means = [np.mean(x) for x in results_vs_greedy]\n",
    "std_devs = [np.std(x) for x in results_vs_greedy]\n",
    "\n",
    "plt.plot(checkpoints, means)\n",
    "plt.fill_between(means, means - std_devs, means + std_devs)\n",
    "\n",
    "plt.xlabel('Iteration')\n",
    "plt.ylabel('Win Percentage')\n",
    "plt.ylim(0, 100)\n",
    "plt.title('Progressive Performance Against the Greedy Agent')\n",
    "plt.show()"
   ]
  },
  {
   "cell_type": "code",
   "execution_count": null,
   "id": "miniature-contents",
   "metadata": {},
   "outputs": [],
   "source": []
  }
 ],
 "metadata": {
  "kernelspec": {
   "display_name": "Python [conda env:pytorch-1.7.1]",
   "language": "python",
   "name": "conda-env-pytorch-1.7.1-py"
  },
  "language_info": {
   "codemirror_mode": {
    "name": "ipython",
    "version": 3
   },
   "file_extension": ".py",
   "mimetype": "text/x-python",
   "name": "python",
   "nbconvert_exporter": "python",
   "pygments_lexer": "ipython3",
   "version": "3.8.5"
  }
 },
 "nbformat": 4,
 "nbformat_minor": 5
}
