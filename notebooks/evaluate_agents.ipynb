{
 "cells": [
  {
   "cell_type": "markdown",
   "id": "mediterranean-taxation",
   "metadata": {},
   "source": [
    "# Evaluate AlphaBlooms Agents\n",
    "\n",
    "This notebook evaluates the performance of AlphaBlooms agents in comparison to random, greedy, and human baselines."
   ]
  },
  {
   "cell_type": "markdown",
   "id": "corresponding-eight",
   "metadata": {},
   "source": [
    "## Imports"
   ]
  },
  {
   "cell_type": "code",
   "execution_count": 1,
   "id": "surface-polish",
   "metadata": {},
   "outputs": [],
   "source": [
    "import sys\n",
    "sys.path.append('..')\n",
    "\n",
    "import numpy as np\n",
    "import matplotlib.pyplot as plt\n",
    "\n",
    "import Arena\n",
    "from MCTS import MCTS\n",
    "from utils import *\n",
    "\n",
    "from blooms.BloomsGame import BloomsGame\n",
    "from blooms.BloomsPlayers import RandomPlayer, GreedyPlayer\n",
    "from blooms.pytorch.NNet import NNetWrapper as BloomsPyTorchNNet"
   ]
  },
  {
   "cell_type": "markdown",
   "id": "pleased-dakota",
   "metadata": {},
   "source": [
    "## Evaluate Agent Against an Opponent"
   ]
  },
  {
   "cell_type": "code",
   "execution_count": 2,
   "id": "overall-young",
   "metadata": {},
   "outputs": [],
   "source": [
    "def evaluate_agent(n_games, game, opponent, chkpt_dir, chkpt_filename):\n",
    "    \"\"\"Compare the performance of an agent against an Opponent.\n",
    "    \"\"\"\n",
    "    model = BloomsPyTorchNNet(game)\n",
    "    model.load_checkpoint(chkpt_dir, chkpt_filename)\n",
    "    args = dotdict({'numMCTSSims': 25, 'cpuct': 1.0})\n",
    "    mcts = MCTS(game, model, args)\n",
    "    agent = lambda x: np.argmax(mcts.getActionProb(x, temp=0))\n",
    "\n",
    "    arena = Arena.Arena(agent, opponent, game)\n",
    "    wins, losses, draws = arena.playGames(n_games, verbose=False)\n",
    "    \n",
    "    return wins, losses, draws"
   ]
  },
  {
   "cell_type": "markdown",
   "id": "indoor-sequence",
   "metadata": {},
   "source": [
    "## Compare Performance Against a Random Agent"
   ]
  },
  {
   "cell_type": "code",
   "execution_count": 3,
   "id": "restricted-transport",
   "metadata": {},
   "outputs": [
    {
     "name": "stderr",
     "output_type": "stream",
     "text": [
      "Arena.playGames (1): 100%|██████████| 5/5 [00:37<00:00,  7.55s/it]\n",
      "Arena.playGames (2): 100%|██████████| 5/5 [00:34<00:00,  6.85s/it]\n"
     ]
    }
   ],
   "source": [
    "n_games = 10\n",
    "game = BloomsGame(size=4, score_target=15)\n",
    "\n",
    "random_agent = RandomPlayer(game).play\n",
    "\n",
    "wins, losses, draws = evaluate_agent(n_games, game, random_agent, 'checkpoints_run_1/', 'checkpoint_2.pth.tar')\n",
    "win_percentage = wins / n_games"
   ]
  },
  {
   "cell_type": "code",
   "execution_count": 4,
   "id": "happy-shape",
   "metadata": {},
   "outputs": [
    {
     "name": "stdout",
     "output_type": "stream",
     "text": [
      "# wins:   4\n",
      "# losses: 6\n",
      "# draws:  0\n",
      "\n",
      "Win percentage: 40.00%\n"
     ]
    }
   ],
   "source": [
    "print(f'# wins:   {wins}')\n",
    "print(f'# losses: {losses}')\n",
    "print(f'# draws:  {draws}')\n",
    "print()\n",
    "print(f'Win percentage: {win_percentage * 100:.2f}%')"
   ]
  },
  {
   "cell_type": "code",
   "execution_count": 5,
   "id": "short-arrest",
   "metadata": {},
   "outputs": [
    {
     "data": {
      "image/png": "[encoded data removed]",
      "text/plain": [
       "<Figure size 432x288 with 1 Axes>"
      ]
     },
     "metadata": {
      "needs_background": "light"
     },
     "output_type": "display_data"
    }
   ],
   "source": [
    "fig, ax = plt.subplots(1)\n",
    "\n",
    "checkpoints = range(1, 11)\n",
    "win_percentages = [win_percentage] * 10\n",
    "win_percentages = [x * 100 for x in win_percentages]\n",
    "\n",
    "plt.plot(checkpoints, win_percentages)\n",
    "\n",
    "plt.xlabel('Iteration')\n",
    "plt.ylabel('Win Percentage')\n",
    "plt.ylim(0, 100)\n",
    "plt.title('Performance of the AlphaZero Agent Against the Random Agent')\n",
    "plt.show()"
   ]
  },
  {
   "cell_type": "markdown",
   "id": "sudden-owner",
   "metadata": {},
   "source": [
    "## Compare Performance Against a Greedy Agent"
   ]
  },
  {
   "cell_type": "code",
   "execution_count": 6,
   "id": "canadian-money",
   "metadata": {},
   "outputs": [
    {
     "name": "stderr",
     "output_type": "stream",
     "text": [
      "Arena.playGames (1): 100%|██████████| 5/5 [00:42<00:00,  8.59s/it]\n",
      "Arena.playGames (2): 100%|██████████| 5/5 [00:38<00:00,  7.73s/it]\n"
     ]
    }
   ],
   "source": [
    "n_games = 10\n",
    "game = BloomsGame(size=4, score_target=15)\n",
    "\n",
    "greedy_agent = GreedyPlayer(game).play\n",
    "\n",
    "wins, losses, draws = evaluate_agent(n_games, game, greedy_agent, 'checkpoints_run_1/', 'checkpoint_2.pth.tar')\n",
    "win_percentage = wins / n_games"
   ]
  },
  {
   "cell_type": "code",
   "execution_count": 7,
   "id": "entire-denial",
   "metadata": {},
   "outputs": [
    {
     "name": "stdout",
     "output_type": "stream",
     "text": [
      "# wins:   10\n",
      "# losses: 0\n",
      "# draws:  0\n",
      "\n",
      "Win percentage: 100.00%\n"
     ]
    }
   ],
   "source": [
    "print(f'# wins:   {wins}')\n",
    "print(f'# losses: {losses}')\n",
    "print(f'# draws:  {draws}')\n",
    "print()\n",
    "print(f'Win percentage: {win_percentage * 100:.2f}%')"
   ]
  },
  {
   "cell_type": "code",
   "execution_count": 8,
   "id": "balanced-booking",
   "metadata": {},
   "outputs": [
    {
     "data": {
      "image/png": "[encoded data removed]",
      "text/plain": [
       "<Figure size 432x288 with 1 Axes>"
      ]
     },
     "metadata": {
      "needs_background": "light"
     },
     "output_type": "display_data"
    }
   ],
   "source": [
    "fig, ax = plt.subplots(1)\n",
    "\n",
    "checkpoints = range(1, 11)\n",
    "win_percentages = [win_percentage] * 10\n",
    "win_percentages = [x * 100 for x in win_percentages]\n",
    "\n",
    "plt.plot(checkpoints, win_percentages)\n",
    "\n",
    "plt.xlabel('Iteration')\n",
    "plt.ylabel('Win Percentage')\n",
    "plt.ylim(0, 100)\n",
    "plt.title('Performance of the AlphaZero Agent Against the Greedy Agent')\n",
    "plt.show()"
   ]
  },
  {
   "cell_type": "code",
   "execution_count": null,
   "id": "regulated-correlation",
   "metadata": {},
   "outputs": [],
   "source": []
  }
 ],
 "metadata": {
  "kernelspec": {
   "display_name": "Python [conda env:pytorch-1.7.1]",
   "language": "python",
   "name": "conda-env-pytorch-1.7.1-py"
  },
  "language_info": {
   "codemirror_mode": {
    "name": "ipython",
    "version": 3
   },
   "file_extension": ".py",
   "mimetype": "text/x-python",
   "name": "python",
   "nbconvert_exporter": "python",
   "pygments_lexer": "ipython3",
   "version": "3.8.5"
  }
 },
 "nbformat": 4,
 "nbformat_minor": 5
}
