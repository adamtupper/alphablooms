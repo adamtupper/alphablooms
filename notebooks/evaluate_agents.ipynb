{
 "cells": [
  {
   "cell_type": "markdown",
   "id": "danish-patrick",
   "metadata": {},
   "source": [
    "# Evaluate AlphaBlooms Agents\n",
    "\n",
    "This notebook evaluates the performance of AlphaBlooms agents in comparison to random, greedy, and human baselines."
   ]
  },
  {
   "cell_type": "markdown",
   "id": "speaking-union",
   "metadata": {},
   "source": [
    "## Imports"
   ]
  },
  {
   "cell_type": "code",
   "execution_count": 13,
   "id": "isolated-adventure",
   "metadata": {},
   "outputs": [],
   "source": [
    "import sys\n",
    "sys.path.append('..')\n",
    "\n",
    "import numpy as np\n",
    "import matplotlib.pyplot as plt\n",
    "\n",
    "import Arena\n",
    "from MCTS import MCTS\n",
    "from utils import *\n",
    "\n",
    "from blooms.BloomsGame import BloomsGame\n",
    "from blooms.BloomsPlayers import RandomPlayer\n",
    "from blooms.pytorch.NNet import NNetWrapper as BloomsPyTorchNNet"
   ]
  },
  {
   "cell_type": "markdown",
   "id": "worst-sleeping",
   "metadata": {},
   "source": [
    "## Compare Performance Against a Random Agent"
   ]
  },
  {
   "cell_type": "code",
   "execution_count": 32,
   "id": "unnecessary-montana",
   "metadata": {},
   "outputs": [
    {
     "name": "stderr",
     "output_type": "stream",
     "text": [
      "Arena.playGames (1): 100%|██████████| 5/5 [00:34<00:00,  6.97s/it]\n",
      "Arena.playGames (2): 100%|██████████| 5/5 [00:33<00:00,  6.68s/it]\n"
     ]
    }
   ],
   "source": [
    "n_games = 10\n",
    "game = BloomsGame(size=4, score_target=15)\n",
    "\n",
    "random_agent = RandomPlayer(game).play\n",
    "\n",
    "model = BloomsPyTorchNNet(game)\n",
    "model.load_checkpoint('checkpoints_run_1/', 'checkpoint_2.pth.tar')\n",
    "args = dotdict({'numMCTSSims': 25, 'cpuct': 1.0})\n",
    "mcts = MCTS(game, model, args)\n",
    "alphazero_agent = lambda x: np.argmax(mcts.getActionProb(x, temp=0))\n",
    "\n",
    "arena = Arena.Arena(alphazero_agent, random_agent, game)\n",
    "wins, losses, draws = arena.playGames(n_games, verbose=False)\n",
    "win_percentage = wins / n_games"
   ]
  },
  {
   "cell_type": "code",
   "execution_count": 33,
   "id": "worth-shower",
   "metadata": {},
   "outputs": [
    {
     "name": "stdout",
     "output_type": "stream",
     "text": [
      "# wins:   5\n",
      "# losses: 5\n",
      "# draws:  0\n",
      "\n",
      "Win percentage: 50.00%\n"
     ]
    }
   ],
   "source": [
    "print(f'# wins:   {wins}')\n",
    "print(f'# losses: {losses}')\n",
    "print(f'# draws:  {draws}')\n",
    "print()\n",
    "print(f'Win percentage: {win_percentage * 100:.2f}%')"
   ]
  },
  {
   "cell_type": "code",
   "execution_count": 37,
   "id": "solved-exclusion",
   "metadata": {},
   "outputs": [
    {
     "data": {
      "image/png": "[encoded data removed]",
      "text/plain": [
       "<Figure size 432x288 with 1 Axes>"
      ]
     },
     "metadata": {
      "needs_background": "light"
     },
     "output_type": "display_data"
    }
   ],
   "source": [
    "fig, ax = plt.subplots(1)\n",
    "\n",
    "checkpoints = range(1, 11)\n",
    "win_percentages = [win_percentage] * 10\n",
    "win_percentages = [x * 100 for x in win_percentages]\n",
    "\n",
    "plt.plot(checkpoints, win_percentages)\n",
    "\n",
    "plt.xlabel('Iteration')\n",
    "plt.ylabel('Win Percentage')\n",
    "plt.ylim(0, 100)\n",
    "plt.title('Performance of the AlphaZero Agent Against the Random Agent')\n",
    "plt.show()"
   ]
  },
  {
   "cell_type": "code",
   "execution_count": null,
   "id": "inclusive-peter",
   "metadata": {},
   "outputs": [],
   "source": []
  }
 ],
 "metadata": {
  "kernelspec": {
   "display_name": "Python [conda env:pytorch-1.7.1]",
   "language": "python",
   "name": "conda-env-pytorch-1.7.1-py"
  },
  "language_info": {
   "codemirror_mode": {
    "name": "ipython",
    "version": 3
   },
   "file_extension": ".py",
   "mimetype": "text/x-python",
   "name": "python",
   "nbconvert_exporter": "python",
   "pygments_lexer": "ipython3",
   "version": "3.8.5"
  }
 },
 "nbformat": 4,
 "nbformat_minor": 5
}
