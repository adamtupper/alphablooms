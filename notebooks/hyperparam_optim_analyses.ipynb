{
 "cells": [
  {
   "cell_type": "markdown",
   "id": "norwegian-onion",
   "metadata": {},
   "source": [
    "# Hyperparamter Optimisation Analyses\n",
    "\n",
    "An investigation into the influence of the number of MCTS simulations.\n",
    "\n",
    "In this experiment, we tested three different values for the number of MCTS simulations on a base 4 board."
   ]
  },
  {
   "cell_type": "markdown",
   "id": "signal-winner",
   "metadata": {},
   "source": [
    "## Imports"
   ]
  },
  {
   "cell_type": "code",
   "execution_count": 1,
   "id": "deadly-cleaner",
   "metadata": {},
   "outputs": [],
   "source": [
    "import pickle\n",
    "import sys\n",
    "sys.path.append('..')\n",
    "\n",
    "import numpy as np\n",
    "import matplotlib.pyplot as plt\n",
    "\n",
    "import Arena\n",
    "from MCTS import MCTS\n",
    "from utils import *\n",
    "\n",
    "from blooms.BloomsGame import BloomsGame\n",
    "from blooms.BloomsPlayers import RandomPlayer, GreedyPlayer\n",
    "from blooms.pytorch.NNet import NNetWrapper as BloomsPyTorchNNet"
   ]
  },
  {
   "cell_type": "markdown",
   "id": "occupational-agriculture",
   "metadata": {},
   "source": [
    "## Evaluate Performance for each # of MCTS Simulations\n",
    "\n",
    "Each checkpoint is evaluated against a random agent."
   ]
  },
  {
   "cell_type": "code",
   "execution_count": 2,
   "id": "enclosed-power",
   "metadata": {},
   "outputs": [],
   "source": [
    "def evaluate_agent(n_games, game, opponent, mcts_sims, chkpt_dir, chkpt_filename):\n",
    "    \"\"\"Compare the performance of an agent against an Opponent.\n",
    "    \"\"\"\n",
    "    model = BloomsPyTorchNNet(game)\n",
    "    model.load_checkpoint(chkpt_dir, chkpt_filename)\n",
    "    args = dotdict({'numMCTSSims': mcts_sims, 'cpuct': 4.0})\n",
    "    mcts = MCTS(game, model, args)\n",
    "    agent = lambda x: np.argmax(mcts.getActionProb(x, temp=0))\n",
    "\n",
    "    arena = Arena.Arena(agent, opponent, game)\n",
    "    wins, losses, draws = arena.playGames(n_games, verbose=False)\n",
    "    \n",
    "    return wins, losses, draws"
   ]
  },
  {
   "cell_type": "code",
   "execution_count": 8,
   "id": "future-beatles",
   "metadata": {},
   "outputs": [
    {
     "name": "stderr",
     "output_type": "stream",
     "text": [
      "Arena.playGames (1):   0%|          | 0/15 [00:00<?, ?it/s]"
     ]
    },
    {
     "name": "stdout",
     "output_type": "stream",
     "text": [
      "Evaluating checkpoints for 25 MCTS sims...\n",
      "CHECKPOINT 1\n",
      "ROUND 0\n"
     ]
    },
    {
     "name": "stderr",
     "output_type": "stream",
     "text": [
      "Arena.playGames (1): 100%|██████████| 15/15 [01:29<00:00,  5.98s/it]\n",
      "Arena.playGames (2): 100%|██████████| 15/15 [01:25<00:00,  5.72s/it]\n",
      "Arena.playGames (1):   0%|          | 0/15 [00:00<?, ?it/s]"
     ]
    },
    {
     "name": "stdout",
     "output_type": "stream",
     "text": [
      "CHECKPOINT 2\n",
      "ROUND 0\n"
     ]
    },
    {
     "name": "stderr",
     "output_type": "stream",
     "text": [
      "Arena.playGames (1): 100%|██████████| 15/15 [01:26<00:00,  5.74s/it]\n",
      "Arena.playGames (2): 100%|██████████| 15/15 [01:29<00:00,  5.98s/it]\n",
      "Arena.playGames (1):   0%|          | 0/15 [00:00<?, ?it/s]"
     ]
    },
    {
     "name": "stdout",
     "output_type": "stream",
     "text": [
      "CHECKPOINT 3\n",
      "ROUND 0\n"
     ]
    },
    {
     "name": "stderr",
     "output_type": "stream",
     "text": [
      "Arena.playGames (1): 100%|██████████| 15/15 [01:32<00:00,  6.16s/it]\n",
      "Arena.playGames (2): 100%|██████████| 15/15 [01:26<00:00,  5.77s/it]\n",
      "Arena.playGames (1):   0%|          | 0/15 [00:00<?, ?it/s]"
     ]
    },
    {
     "name": "stdout",
     "output_type": "stream",
     "text": [
      "CHECKPOINT 4\n",
      "ROUND 0\n"
     ]
    },
    {
     "name": "stderr",
     "output_type": "stream",
     "text": [
      "Arena.playGames (1): 100%|██████████| 15/15 [01:29<00:00,  5.99s/it]\n",
      "Arena.playGames (2): 100%|██████████| 15/15 [01:28<00:00,  5.87s/it]\n",
      "Arena.playGames (1):   0%|          | 0/15 [00:00<?, ?it/s]"
     ]
    },
    {
     "name": "stdout",
     "output_type": "stream",
     "text": [
      "CHECKPOINT 5\n",
      "ROUND 0\n"
     ]
    },
    {
     "name": "stderr",
     "output_type": "stream",
     "text": [
      "Arena.playGames (1): 100%|██████████| 15/15 [01:32<00:00,  6.17s/it]\n",
      "Arena.playGames (2): 100%|██████████| 15/15 [01:28<00:00,  5.91s/it]\n",
      "Arena.playGames (1):   0%|          | 0/15 [00:00<?, ?it/s]"
     ]
    },
    {
     "name": "stdout",
     "output_type": "stream",
     "text": [
      "CHECKPOINT 6\n",
      "ROUND 0\n"
     ]
    },
    {
     "name": "stderr",
     "output_type": "stream",
     "text": [
      "Arena.playGames (1): 100%|██████████| 15/15 [01:29<00:00,  5.95s/it]\n",
      "Arena.playGames (2): 100%|██████████| 15/15 [01:28<00:00,  5.92s/it]\n",
      "Arena.playGames (1):   0%|          | 0/15 [00:00<?, ?it/s]"
     ]
    },
    {
     "name": "stdout",
     "output_type": "stream",
     "text": [
      "CHECKPOINT 7\n",
      "ROUND 0\n"
     ]
    },
    {
     "name": "stderr",
     "output_type": "stream",
     "text": [
      "Arena.playGames (1): 100%|██████████| 15/15 [01:28<00:00,  5.92s/it]\n",
      "Arena.playGames (2): 100%|██████████| 15/15 [01:27<00:00,  5.83s/it]\n",
      "Arena.playGames (1):   0%|          | 0/15 [00:00<?, ?it/s]"
     ]
    },
    {
     "name": "stdout",
     "output_type": "stream",
     "text": [
      "CHECKPOINT 8\n",
      "ROUND 0\n"
     ]
    },
    {
     "name": "stderr",
     "output_type": "stream",
     "text": [
      "Arena.playGames (1): 100%|██████████| 15/15 [01:30<00:00,  6.02s/it]\n",
      "Arena.playGames (2): 100%|██████████| 15/15 [01:24<00:00,  5.62s/it]\n",
      "Arena.playGames (1):   0%|          | 0/15 [00:00<?, ?it/s]"
     ]
    },
    {
     "name": "stdout",
     "output_type": "stream",
     "text": [
      "CHECKPOINT 9\n",
      "ROUND 0\n"
     ]
    },
    {
     "name": "stderr",
     "output_type": "stream",
     "text": [
      "Arena.playGames (1): 100%|██████████| 15/15 [01:24<00:00,  5.61s/it]\n",
      "Arena.playGames (2): 100%|██████████| 15/15 [01:27<00:00,  5.82s/it]\n",
      "Arena.playGames (1):   0%|          | 0/15 [00:00<?, ?it/s]"
     ]
    },
    {
     "name": "stdout",
     "output_type": "stream",
     "text": [
      "CHECKPOINT 10\n",
      "ROUND 0\n"
     ]
    },
    {
     "name": "stderr",
     "output_type": "stream",
     "text": [
      "Arena.playGames (1): 100%|██████████| 15/15 [01:30<00:00,  6.06s/it]\n",
      "Arena.playGames (2): 100%|██████████| 15/15 [01:26<00:00,  5.77s/it]\n",
      "Arena.playGames (1):   0%|          | 0/15 [00:00<?, ?it/s]"
     ]
    },
    {
     "name": "stdout",
     "output_type": "stream",
     "text": [
      "Evaluating checkpoints for 50 MCTS sims...\n",
      "CHECKPOINT 1\n",
      "ROUND 0\n"
     ]
    },
    {
     "name": "stderr",
     "output_type": "stream",
     "text": [
      "Arena.playGames (1): 100%|██████████| 15/15 [03:00<00:00, 12.00s/it]\n",
      "Arena.playGames (2): 100%|██████████| 15/15 [02:56<00:00, 11.74s/it]\n",
      "Arena.playGames (1):   0%|          | 0/15 [00:00<?, ?it/s]"
     ]
    },
    {
     "name": "stdout",
     "output_type": "stream",
     "text": [
      "CHECKPOINT 2\n",
      "ROUND 0\n"
     ]
    },
    {
     "name": "stderr",
     "output_type": "stream",
     "text": [
      "Arena.playGames (1): 100%|██████████| 15/15 [03:15<00:00, 13.03s/it]\n",
      "Arena.playGames (2): 100%|██████████| 15/15 [03:04<00:00, 12.29s/it]\n",
      "Arena.playGames (1):   0%|          | 0/15 [00:00<?, ?it/s]"
     ]
    },
    {
     "name": "stdout",
     "output_type": "stream",
     "text": [
      "CHECKPOINT 3\n",
      "ROUND 0\n"
     ]
    },
    {
     "name": "stderr",
     "output_type": "stream",
     "text": [
      "Arena.playGames (1): 100%|██████████| 15/15 [03:14<00:00, 12.95s/it]\n",
      "Arena.playGames (2): 100%|██████████| 15/15 [03:04<00:00, 12.31s/it]\n",
      "Arena.playGames (1):   0%|          | 0/15 [00:00<?, ?it/s]"
     ]
    },
    {
     "name": "stdout",
     "output_type": "stream",
     "text": [
      "CHECKPOINT 4\n",
      "ROUND 0\n"
     ]
    },
    {
     "name": "stderr",
     "output_type": "stream",
     "text": [
      "Arena.playGames (1): 100%|██████████| 15/15 [03:13<00:00, 12.92s/it]\n",
      "Arena.playGames (2): 100%|██████████| 15/15 [03:01<00:00, 12.07s/it]\n",
      "Arena.playGames (1):   0%|          | 0/15 [00:00<?, ?it/s]"
     ]
    },
    {
     "name": "stdout",
     "output_type": "stream",
     "text": [
      "CHECKPOINT 5\n",
      "ROUND 0\n"
     ]
    },
    {
     "name": "stderr",
     "output_type": "stream",
     "text": [
      "Arena.playGames (1): 100%|██████████| 15/15 [03:12<00:00, 12.83s/it]\n",
      "Arena.playGames (2): 100%|██████████| 15/15 [02:58<00:00, 11.92s/it]\n",
      "Arena.playGames (1):   0%|          | 0/15 [00:00<?, ?it/s]"
     ]
    },
    {
     "name": "stdout",
     "output_type": "stream",
     "text": [
      "CHECKPOINT 6\n",
      "ROUND 0\n"
     ]
    },
    {
     "name": "stderr",
     "output_type": "stream",
     "text": [
      "Arena.playGames (1): 100%|██████████| 15/15 [03:03<00:00, 12.25s/it]\n",
      "Arena.playGames (2): 100%|██████████| 15/15 [03:01<00:00, 12.13s/it]\n",
      "Arena.playGames (1):   0%|          | 0/15 [00:00<?, ?it/s]"
     ]
    },
    {
     "name": "stdout",
     "output_type": "stream",
     "text": [
      "CHECKPOINT 7\n",
      "ROUND 0\n"
     ]
    },
    {
     "name": "stderr",
     "output_type": "stream",
     "text": [
      "Arena.playGames (1): 100%|██████████| 15/15 [03:10<00:00, 12.67s/it]\n",
      "Arena.playGames (2): 100%|██████████| 15/15 [03:02<00:00, 12.18s/it]\n",
      "Arena.playGames (1):   0%|          | 0/15 [00:00<?, ?it/s]"
     ]
    },
    {
     "name": "stdout",
     "output_type": "stream",
     "text": [
      "CHECKPOINT 8\n",
      "ROUND 0\n"
     ]
    },
    {
     "name": "stderr",
     "output_type": "stream",
     "text": [
      "Arena.playGames (1): 100%|██████████| 15/15 [03:02<00:00, 12.15s/it]\n",
      "Arena.playGames (2): 100%|██████████| 15/15 [03:05<00:00, 12.35s/it]\n",
      "Arena.playGames (1):   0%|          | 0/15 [00:00<?, ?it/s]"
     ]
    },
    {
     "name": "stdout",
     "output_type": "stream",
     "text": [
      "CHECKPOINT 9\n",
      "ROUND 0\n"
     ]
    },
    {
     "name": "stderr",
     "output_type": "stream",
     "text": [
      "Arena.playGames (1): 100%|██████████| 15/15 [03:10<00:00, 12.68s/it]\n",
      "Arena.playGames (2): 100%|██████████| 15/15 [03:05<00:00, 12.36s/it]\n",
      "Arena.playGames (1):   0%|          | 0/15 [00:00<?, ?it/s]"
     ]
    },
    {
     "name": "stdout",
     "output_type": "stream",
     "text": [
      "CHECKPOINT 10\n",
      "ROUND 0\n"
     ]
    },
    {
     "name": "stderr",
     "output_type": "stream",
     "text": [
      "Arena.playGames (1): 100%|██████████| 15/15 [03:09<00:00, 12.63s/it]\n",
      "Arena.playGames (2): 100%|██████████| 15/15 [02:57<00:00, 11.87s/it]\n",
      "Arena.playGames (1):   0%|          | 0/15 [00:00<?, ?it/s]"
     ]
    },
    {
     "name": "stdout",
     "output_type": "stream",
     "text": [
      "Evaluating checkpoints for 100 MCTS sims...\n",
      "CHECKPOINT 1\n",
      "ROUND 0\n"
     ]
    },
    {
     "name": "stderr",
     "output_type": "stream",
     "text": [
      "Arena.playGames (1): 100%|██████████| 15/15 [05:51<00:00, 23.42s/it]\n",
      "Arena.playGames (2): 100%|██████████| 15/15 [05:31<00:00, 22.11s/it]\n",
      "Arena.playGames (1):   0%|          | 0/15 [00:00<?, ?it/s]"
     ]
    },
    {
     "name": "stdout",
     "output_type": "stream",
     "text": [
      "CHECKPOINT 2\n",
      "ROUND 0\n"
     ]
    },
    {
     "name": "stderr",
     "output_type": "stream",
     "text": [
      "Arena.playGames (1): 100%|██████████| 15/15 [06:31<00:00, 26.11s/it]\n",
      "Arena.playGames (2): 100%|██████████| 15/15 [06:26<00:00, 25.74s/it]\n",
      "Arena.playGames (1):   0%|          | 0/15 [00:00<?, ?it/s]"
     ]
    },
    {
     "name": "stdout",
     "output_type": "stream",
     "text": [
      "CHECKPOINT 3\n",
      "ROUND 0\n"
     ]
    },
    {
     "name": "stderr",
     "output_type": "stream",
     "text": [
      "Arena.playGames (1): 100%|██████████| 15/15 [06:24<00:00, 25.60s/it]\n",
      "Arena.playGames (2): 100%|██████████| 15/15 [06:16<00:00, 25.07s/it]\n",
      "Arena.playGames (1):   0%|          | 0/15 [00:00<?, ?it/s]"
     ]
    },
    {
     "name": "stdout",
     "output_type": "stream",
     "text": [
      "CHECKPOINT 4\n",
      "ROUND 0\n"
     ]
    },
    {
     "name": "stderr",
     "output_type": "stream",
     "text": [
      "Arena.playGames (1): 100%|██████████| 15/15 [06:29<00:00, 25.97s/it]\n",
      "Arena.playGames (2): 100%|██████████| 15/15 [06:24<00:00, 25.60s/it]\n",
      "Arena.playGames (1):   0%|          | 0/15 [00:00<?, ?it/s]"
     ]
    },
    {
     "name": "stdout",
     "output_type": "stream",
     "text": [
      "CHECKPOINT 5\n",
      "ROUND 0\n"
     ]
    },
    {
     "name": "stderr",
     "output_type": "stream",
     "text": [
      "Arena.playGames (1): 100%|██████████| 15/15 [06:29<00:00, 25.95s/it]\n",
      "Arena.playGames (2): 100%|██████████| 15/15 [06:37<00:00, 26.50s/it]\n",
      "Arena.playGames (1):   0%|          | 0/15 [00:00<?, ?it/s]"
     ]
    },
    {
     "name": "stdout",
     "output_type": "stream",
     "text": [
      "CHECKPOINT 6\n",
      "ROUND 0\n"
     ]
    },
    {
     "name": "stderr",
     "output_type": "stream",
     "text": [
      "Arena.playGames (1): 100%|██████████| 15/15 [06:30<00:00, 26.02s/it]\n",
      "Arena.playGames (2): 100%|██████████| 15/15 [05:57<00:00, 23.85s/it]\n",
      "Arena.playGames (1):   0%|          | 0/15 [00:00<?, ?it/s]"
     ]
    },
    {
     "name": "stdout",
     "output_type": "stream",
     "text": [
      "CHECKPOINT 7\n",
      "ROUND 0\n"
     ]
    },
    {
     "name": "stderr",
     "output_type": "stream",
     "text": [
      "Arena.playGames (1): 100%|██████████| 15/15 [06:41<00:00, 26.75s/it]\n",
      "Arena.playGames (2): 100%|██████████| 15/15 [06:19<00:00, 25.31s/it]\n",
      "Arena.playGames (1):   0%|          | 0/15 [00:00<?, ?it/s]"
     ]
    },
    {
     "name": "stdout",
     "output_type": "stream",
     "text": [
      "CHECKPOINT 8\n",
      "ROUND 0\n"
     ]
    },
    {
     "name": "stderr",
     "output_type": "stream",
     "text": [
      "Arena.playGames (1): 100%|██████████| 15/15 [06:35<00:00, 26.34s/it]\n",
      "Arena.playGames (2): 100%|██████████| 15/15 [06:16<00:00, 25.09s/it]\n",
      "Arena.playGames (1):   0%|          | 0/15 [00:00<?, ?it/s]"
     ]
    },
    {
     "name": "stdout",
     "output_type": "stream",
     "text": [
      "CHECKPOINT 9\n",
      "ROUND 0\n"
     ]
    },
    {
     "name": "stderr",
     "output_type": "stream",
     "text": [
      "Arena.playGames (1): 100%|██████████| 15/15 [06:22<00:00, 25.51s/it]\n",
      "Arena.playGames (2): 100%|██████████| 15/15 [06:02<00:00, 24.17s/it]\n",
      "Arena.playGames (1):   0%|          | 0/15 [00:00<?, ?it/s]"
     ]
    },
    {
     "name": "stdout",
     "output_type": "stream",
     "text": [
      "CHECKPOINT 10\n",
      "ROUND 0\n"
     ]
    },
    {
     "name": "stderr",
     "output_type": "stream",
     "text": [
      "Arena.playGames (1): 100%|██████████| 15/15 [06:25<00:00, 25.70s/it]\n",
      "Arena.playGames (2): 100%|██████████| 15/15 [06:09<00:00, 24.66s/it]\n"
     ]
    }
   ],
   "source": [
    "ROUNDS = 1\n",
    "GAMES_PER_ROUND = 30\n",
    "\n",
    "path_template = 'results/chkpts_mcts_sims_{}_10_iters/'\n",
    "\n",
    "for n_sims in [25, 50, 100]:\n",
    "    print(f'Evaluating checkpoints for {n_sims} MCTS sims...')\n",
    "    results_vs_random = []\n",
    "    for i, chkpt in enumerate(range(1, 11)):\n",
    "        print(f'CHECKPOINT {chkpt}')\n",
    "        results_vs_random.append([])\n",
    "        for j in range(ROUNDS):\n",
    "            print(f'ROUND {j}')\n",
    "            game = BloomsGame(size=4, score_target=15)\n",
    "\n",
    "            random_agent = RandomPlayer(game).play\n",
    "\n",
    "            wins, losses, draws = evaluate_agent(GAMES_PER_ROUND, game, random_agent, n_sims,\n",
    "                                                 path_template.format(n_sims), f'checkpoint_{chkpt}.pth.tar')\n",
    "            win_percentage = wins / GAMES_PER_ROUND\n",
    "\n",
    "            results_vs_random[i].append(win_percentage)\n",
    "            \n",
    "    pickle.dump(results_vs_random, open(path_template.format(n_sims) + 'random_agent_eval_results_1_round_30_games.pkl', 'wb'))"
   ]
  },
  {
   "cell_type": "markdown",
   "id": "identical-passing",
   "metadata": {},
   "source": [
    "## Plot Evaluation Results"
   ]
  },
  {
   "cell_type": "code",
   "execution_count": 3,
   "id": "committed-squad",
   "metadata": {},
   "outputs": [
    {
     "data": {
      "image/png": "[encoded data removed]",
      "text/plain": [
       "<Figure size 432x288 with 1 Axes>"
      ]
     },
     "metadata": {
      "needs_background": "light"
     },
     "output_type": "display_data"
    }
   ],
   "source": [
    "fig, ax = plt.subplots(1)\n",
    "\n",
    "path_template = 'results/chkpts_mcts_sims_{}_10_iters/random_agent_eval_results_1_round_30_games.pkl'\n",
    "\n",
    "for n_sims in [25, 50, 100]:\n",
    "    results_vs_random = pickle.load(open(path_template.format(n_sims), 'rb'))\n",
    "\n",
    "    checkpoints = range(1, 11)\n",
    "    means = np.array([np.mean(x) for x in results_vs_random])\n",
    "#     std_devs = np.array([np.std(x) for x in results_vs_random])\n",
    "\n",
    "    plt.plot(checkpoints, means, label=n_sims)\n",
    "#     plt.fill_between(checkpoints, means - std_devs, means + std_devs, alpha=0.2)\n",
    "\n",
    "plt.legend()\n",
    "plt.xlabel('Iteration')\n",
    "plt.ylabel('Win Proportion')\n",
    "plt.ylim(0, 1)\n",
    "plt.xticks(range(1, 11))\n",
    "plt.title('Progressive Performance Against the Random Agent\\nfor 25, 50, and 100 MCTS Simulations')\n",
    "plt.savefig('outputs/hyperparam_optim_mcts_sims_plot.pdf')\n",
    "plt.show()"
   ]
  },
  {
   "cell_type": "code",
   "execution_count": null,
   "id": "existing-techno",
   "metadata": {},
   "outputs": [],
   "source": []
  }
 ],
 "metadata": {
  "kernelspec": {
   "display_name": "Python [conda env:pytorch-1.7.1]",
   "language": "python",
   "name": "conda-env-pytorch-1.7.1-py"
  },
  "language_info": {
   "codemirror_mode": {
    "name": "ipython",
    "version": 3
   },
   "file_extension": ".py",
   "mimetype": "text/x-python",
   "name": "python",
   "nbconvert_exporter": "python",
   "pygments_lexer": "ipython3",
   "version": "3.8.5"
  }
 },
 "nbformat": 4,
 "nbformat_minor": 5
}
